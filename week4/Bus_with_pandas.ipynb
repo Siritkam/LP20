{
 "cells": [
  {
   "cell_type": "code",
   "execution_count": 2,
   "id": "surface-adaptation",
   "metadata": {},
   "outputs": [],
   "source": [
    "import pandas as pd\n",
    "import numpy as np"
   ]
  },
  {
   "cell_type": "code",
   "execution_count": 11,
   "id": "double-arthur",
   "metadata": {},
   "outputs": [],
   "source": [
    "stations = pd.read_csv(open('bus.csv', 'r', encoding='cp1251'), sep=';')"
   ]
  },
  {
   "cell_type": "code",
   "execution_count": 26,
   "id": "purple-theorem",
   "metadata": {},
   "outputs": [],
   "source": [
    "station_count = stations.groupby(['Street']).size()"
   ]
  },
  {
   "cell_type": "code",
   "execution_count": 32,
   "id": "dutch-steering",
   "metadata": {},
   "outputs": [],
   "source": [
    "station_count.sort_values(ascending = False, inplace = True)"
   ]
  },
  {
   "cell_type": "code",
   "execution_count": 35,
   "id": "laden-circumstances",
   "metadata": {},
   "outputs": [
    {
     "data": {
      "text/plain": [
       "Street\n",
       "проезд без названия    627\n",
       "Варшавское шоссе       178\n",
       "Калужское шоссе        112\n",
       "шоссе Энтузиастов       79\n",
       "проспект Мира           75\n",
       "                      ... \n",
       "Ясеневая улица          19\n",
       "улица Удальцова         19\n",
       "Каспийская улица        19\n",
       "Сиреневый бульвар       19\n",
       "улица Юности            18\n",
       "Length: 100, dtype: int64"
      ]
     },
     "execution_count": 35,
     "metadata": {},
     "output_type": "execute_result"
    }
   ],
   "source": [
    "station_count[:100]"
   ]
  },
  {
   "cell_type": "code",
   "execution_count": 40,
   "id": "brazilian-malta",
   "metadata": {},
   "outputs": [],
   "source": [
    "pavilion_count = stations.groupby(['Street', 'Pavilion']).size()"
   ]
  },
  {
   "cell_type": "code",
   "execution_count": 41,
   "id": "convenient-retention",
   "metadata": {},
   "outputs": [
    {
     "data": {
      "text/plain": [
       "Street                   Pavilion\n",
       "1-й Ботанический проезд  нет          1\n",
       "1-й Боткинский проезд    да           2\n",
       "1-й Варшавский проезд    да           2\n",
       "1-й Вешняковский проезд  да           1\n",
       "                         нет          1\n",
       "                                     ..\n",
       "улица Яблочкова          нет          2\n",
       "шоссе Фрезер             да           8\n",
       "                         нет          3\n",
       "шоссе Энтузиастов        да          55\n",
       "                         нет         24\n",
       "Length: 2156, dtype: int64"
      ]
     },
     "execution_count": 41,
     "metadata": {},
     "output_type": "execute_result"
    }
   ],
   "source": [
    "pavilion_count"
   ]
  },
  {
   "cell_type": "code",
   "execution_count": null,
   "id": "minimal-blackberry",
   "metadata": {},
   "outputs": [],
   "source": []
  }
 ],
 "metadata": {
  "kernelspec": {
   "display_name": "Python 3",
   "language": "python",
   "name": "python3"
  },
  "language_info": {
   "codemirror_mode": {
    "name": "ipython",
    "version": 3
   },
   "file_extension": ".py",
   "mimetype": "text/x-python",
   "name": "python",
   "nbconvert_exporter": "python",
   "pygments_lexer": "ipython3",
   "version": "3.8.7"
  }
 },
 "nbformat": 4,
 "nbformat_minor": 5
}
